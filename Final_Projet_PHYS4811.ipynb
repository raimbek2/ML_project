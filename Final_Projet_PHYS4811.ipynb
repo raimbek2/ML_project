{
 "cells": [
  {
   "cell_type": "markdown",
   "id": "stretch-video",
   "metadata": {},
   "source": [
    "# Final project"
   ]
  },
  {
   "cell_type": "markdown",
   "id": "discrete-hands",
   "metadata": {},
   "source": [
    "##### Author: Kerimbek Raiymbek"
   ]
  },
  {
   "cell_type": "markdown",
   "id": "short-clause",
   "metadata": {},
   "source": [
    "### 0. Prepare the datasets"
   ]
  },
  {
   "cell_type": "code",
   "execution_count": 1,
   "id": "federal-wisdom",
   "metadata": {},
   "outputs": [],
   "source": [
    "import numpy as np\n",
    "\n",
    "# Data points\n",
    "in_dim = 4\n",
    "X_a = np.random.normal(loc=[1, 1, 1, 1], scale=[0.5, 0.5, 0.5, 0.5], size=(10000, in_dim))\n",
    "X_b = np.random.normal(loc=[0, 0, 0, 0], scale=[2, 2, 2, 2], size=(10000, in_dim)) \n",
    "\n",
    "# Labels \n",
    "y_a = np.ones((len(X_a), 1))\n",
    "y_b = np.zeros((len(X_b), 1))\n",
    "\n",
    "# Merge and shuffle the data\n",
    "label = np.concatenate((y_a, y_b))\n",
    "x = np.concatenate((X_a, X_b))\n",
    "idx = np.arange(len(x))\n",
    "np.random.shuffle(idx)\n",
    "X = x[idx]\n",
    "label = label[idx]"
   ]
  },
  {
   "cell_type": "markdown",
   "id": "attractive-mandate",
   "metadata": {},
   "source": [
    "### 1. Neural network"
   ]
  },
  {
   "cell_type": "code",
   "execution_count": 2,
   "id": "catholic-fortune",
   "metadata": {},
   "outputs": [],
   "source": [
    "import torch\n",
    "import torch.nn as nn\n",
    "import torch.functional as F\n",
    "# Create the model of a neural network\n",
    "class fcn_model(nn.Module):\n",
    "    def __init__(self, in_dim):\n",
    "        super(fcn_model, self).__init__()\n",
    "        self.fc1 = nn.Linear(in_dim, 32)\n",
    "        self.fc2 = nn.Linear(32, 16)\n",
    "        self.fc3 = nn.Linear(16, 1)\n",
    "        self.relu = nn.ReLU(inplace=True)\n",
    "        \n",
    "    def forward(self, x) :\n",
    "        x = self.relu(self.fc1(x))\n",
    "        x = self.relu(self.fc2(x))\n",
    "        out = self.fc3(x)\n",
    "        return torch.sigmoid(out)"
   ]
  },
  {
   "cell_type": "code",
   "execution_count": 3,
   "id": "dynamic-benchmark",
   "metadata": {},
   "outputs": [
    {
     "name": "stdout",
     "output_type": "stream",
     "text": [
      "torch.Size([20000, 1])\n"
     ]
    }
   ],
   "source": [
    "# Test the model\n",
    "model = fcn_model(in_dim=4)\n",
    "out = model(torch.from_numpy(x).float())\n",
    "print(out.shape)"
   ]
  },
  {
   "cell_type": "markdown",
   "id": "appropriate-volume",
   "metadata": {},
   "source": [
    "### 2. Loss function"
   ]
  },
  {
   "cell_type": "markdown",
   "id": "fluid-peeing",
   "metadata": {},
   "source": [
    "The custom loss function consists of the $\\text{ Binary Cross Entropy}$ and the mean euclidean distance between $x_i$ data point and $\\mu_1$ among all points of input, so I firstly calculated the mean euclidean distance for each point in inputs with the norm() function which returns Euclidean distance and then the BCELoss between output and target and returned sum of two"
   ]
  },
  {
   "cell_type": "code",
   "execution_count": 4,
   "id": "distant-alias",
   "metadata": {},
   "outputs": [],
   "source": [
    "def loss(output, target, inputs):\n",
    "    mu_1 = [1, 1, 1, 1]\n",
    "    mu_1 = torch.FloatTensor(mu_1)\n",
    "    dis = 0\n",
    "    for i in inputs:\n",
    "        dis += torch.norm(i - mu_1, 2)\n",
    "    dis /= inputs.size(0)\n",
    "    ans = nn.BCELoss()(output, target)\n",
    "    return ans + dis"
   ]
  },
  {
   "cell_type": "code",
   "execution_count": 5,
   "id": "stunning-election",
   "metadata": {},
   "outputs": [
    {
     "name": "stdout",
     "output_type": "stream",
     "text": [
      "tensor(3.2740, dtype=torch.float64, grad_fn=<AddBackward0>)\n"
     ]
    }
   ],
   "source": [
    "print(loss(out, torch.from_numpy(label).float(), torch.from_numpy(x)))"
   ]
  },
  {
   "cell_type": "markdown",
   "id": "refined-oracle",
   "metadata": {},
   "source": [
    "### 3. Data loader"
   ]
  },
  {
   "cell_type": "code",
   "execution_count": 6,
   "id": "other-philadelphia",
   "metadata": {},
   "outputs": [],
   "source": [
    "## Data loader\n",
    "from torch.utils import data\n",
    "\n",
    "class MyDataset(data.Dataset):\n",
    "    def __init__(self, X, label):\n",
    "        self.X = torch.from_numpy(X).float()\n",
    "        self.label = torch.from_numpy(label).float()\n",
    "    \n",
    "    def __getitem__(self, index):\n",
    "        x = self.X[index]\n",
    "        y = self.label[index]\n",
    "        return x, y\n",
    "    \n",
    "    def __len__(self):\n",
    "        return len(self.X)\n",
    "    \n",
    "def get_dataloader(X, label, batch_size, test_size=0.2):    \n",
    "\n",
    "    ## shuffle data\n",
    "    idx = np.arange(len(X))\n",
    "    np.random.shuffle(idx)\n",
    "    X, label = X[idx], label[idx]\n",
    "    \n",
    "    ## divide data for train and validation\n",
    "    nb_train = int((1-test_size)*len(X))\n",
    "    trainset = MyDataset(X[:nb_train], label[:nb_train])\n",
    "    testset = MyDataset(X[nb_train:], label[nb_train:])\n",
    "    \n",
    "    dataloaders = {\n",
    "        'train':data.DataLoader(trainset, batch_size=batch_size, shuffle=True), \n",
    "        'val':data.DataLoader(testset, batch_size=batch_size, shuffle=True)\n",
    "    }\n",
    "    return dataloaders"
   ]
  },
  {
   "cell_type": "markdown",
   "id": "olive-incidence",
   "metadata": {},
   "source": [
    "### 4. Train the model function"
   ]
  },
  {
   "cell_type": "code",
   "execution_count": 7,
   "id": "hearing-highlight",
   "metadata": {},
   "outputs": [],
   "source": [
    "## build a function to train and val your model\n",
    "from __future__ import print_function\n",
    "import time\n",
    "import copy\n",
    "\n",
    "def train_model(model, dataloaders, criterion, optimizer, num_epochs, device):\n",
    "    since = time.time()\n",
    "    \n",
    "    # histroy of training\n",
    "    history = {'loss':[], 'val_loss':[], 'acc':[], 'val_acc':[]}\n",
    "    \n",
    "    model = model.to(device)\n",
    "    step_show = 10 ## each i*step_show print current loss\n",
    "    for epoch in range(num_epochs):\n",
    "        if (epoch+1) % step_show == 0:\n",
    "            print('Epoch {0}/{1}'.format(epoch+1, num_epochs))\n",
    "            \n",
    "        # training\n",
    "        model.train()\n",
    "        running_loss, running_corrects = 0.0, 0.0\n",
    "        for i, (inputs, target) in enumerate(dataloaders['train']):\n",
    "            ## put inputs and target to device \n",
    "            inputs = inputs.to(device).float()\n",
    "            target = target.to(device).float()\n",
    "            \n",
    "            ## get outputs from the model and compute loss with respect to loss function \n",
    "            optimizer.zero_grad()\n",
    "            outputs = model(inputs)\n",
    "            loss = criterion(outputs, target, inputs)\n",
    "            \n",
    "            ## back prop\n",
    "            loss.backward()\n",
    "            optimizer.step()\n",
    "\n",
    "            ## compute loss and corrects of prediction in each batch of data\n",
    "            running_loss += loss.item() * inputs.size(0)\n",
    "            running_corrects += torch.sum((outputs+.5).int().t()==target.data.int().t())\n",
    "            \n",
    "        ## record loss and corrects of prediction at each epoch\n",
    "        epoch_loss = running_loss / len(dataloaders['train'].dataset)\n",
    "        epoch_corrects = running_corrects.double() / len(dataloaders['train'].dataset)\n",
    "        history['loss'].append(epoch_loss)\n",
    "        history['acc'].append(epoch_corrects)\n",
    "        \n",
    "        ##validate \n",
    "        model.eval() #set the module in evaluation mode (eg. Dropout, batchnorm)\n",
    "        val_running_loss, val_running_corrects = 0.0, 0.0\n",
    "        for i, (inputs, target) in enumerate(dataloaders['val']):\n",
    "            inputs = inputs.to(device).float()\n",
    "            target = target.to(device).float()\n",
    "            outputs = model(inputs)\n",
    "            loss = criterion(outputs, target, inputs)\n",
    "            \n",
    "            val_running_loss += loss.item() * inputs.size(0)\n",
    "            val_running_corrects += torch.sum((outputs+.5).int().t()==target.data.int().t())\n",
    "            \n",
    "        val_epoch_loss = val_running_loss / len(dataloaders['val'].dataset)\n",
    "        val_epoch_corrects = val_running_corrects.double() / len(dataloaders['val'].dataset)\n",
    "        history['val_loss'].append(val_epoch_loss)\n",
    "        history['val_acc'].append(val_epoch_corrects)\n",
    "        \n",
    "        ## print epoch loss and corrects if its a step to print\n",
    "        if (epoch + 1)%step_show==0:\n",
    "            print('Epoch Loss: {0:.6f}, Acc: {1:.6f}, Val Acc: {2:.6f}'\n",
    "                  .format(epoch_loss, epoch_corrects, val_epoch_corrects))\n",
    "            print('-'*10)\n",
    "            \n",
    "    ## print total time for training\n",
    "    time_elapsed = time.time() - since\n",
    "    print('Training complete in {:.0f}m {:.0f}s'.format(time_elapsed // 60, time_elapsed % 60))\n",
    "    \n",
    "    return model, history"
   ]
  },
  {
   "cell_type": "markdown",
   "id": "greenhouse-cream",
   "metadata": {},
   "source": [
    "### 5. Setup parameters and train model"
   ]
  },
  {
   "cell_type": "code",
   "execution_count": 8,
   "id": "mechanical-creation",
   "metadata": {},
   "outputs": [
    {
     "name": "stdout",
     "output_type": "stream",
     "text": [
      "Epoch 10/50\n",
      "Epoch Loss: 2.647059, Acc: 0.969375, Val Acc: 0.969500\n",
      "----------\n",
      "Epoch 20/50\n",
      "Epoch Loss: 2.637934, Acc: 0.971437, Val Acc: 0.972000\n",
      "----------\n",
      "Epoch 30/50\n",
      "Epoch Loss: 2.635830, Acc: 0.972437, Val Acc: 0.974500\n",
      "----------\n",
      "Epoch 40/50\n",
      "Epoch Loss: 2.634890, Acc: 0.973688, Val Acc: 0.973750\n",
      "----------\n",
      "Epoch 50/50\n",
      "Epoch Loss: 2.634244, Acc: 0.973562, Val Acc: 0.974500\n",
      "----------\n",
      "Training complete in 0m 19s\n"
     ]
    }
   ],
   "source": [
    "## favourite parameter\n",
    "batch_size = 256\n",
    "num_epochs = 50\n",
    "test_size = 0.2\n",
    "\n",
    "## assert which device to compute in model\n",
    "device = torch.device(\"cpu\")\n",
    "## get your model here \n",
    "model = fcn_model(in_dim=in_dim)\n",
    "## get batched data for train and val\n",
    "dataloaders = get_dataloader(X=X, label=label, batch_size=batch_size, test_size=test_size)\n",
    "## Set criterion to our custom loss function\n",
    "criterion = loss\n",
    "## Set optimizer to gradient descent\n",
    "optimizer = torch.optim.Adam(model.parameters(),\n",
    "                            lr=0.001,\n",
    "                            betas=(0.9, 0.999),\n",
    "                            eps=1e-8,\n",
    "                            weight_decay=1e-5)\n",
    "\n",
    "\n",
    "## train your model, get trained model and history of training\n",
    "model, history = train_model(model=model, \n",
    "                             dataloaders=dataloaders, \n",
    "                             optimizer=optimizer, \n",
    "                             criterion=criterion, \n",
    "                             num_epochs=num_epochs, \n",
    "                             device=device)"
   ]
  },
  {
   "cell_type": "markdown",
   "id": "adjacent-truth",
   "metadata": {},
   "source": [
    "### 6. Training history"
   ]
  },
  {
   "cell_type": "code",
   "execution_count": 9,
   "id": "knowing-capitol",
   "metadata": {},
   "outputs": [
    {
     "data": {
      "image/png": "[encoded data removed]",
      "text/plain": [
       "<Figure size 360x360 with 1 Axes>"
      ]
     },
     "metadata": {
      "needs_background": "light"
     },
     "output_type": "display_data"
    }
   ],
   "source": [
    "import matplotlib.pyplot as plt\n",
    "%matplotlib inline\n",
    "\n",
    "plt.figure(figsize=(5, 5))\n",
    "plt.plot(history['loss'], label='train loss')\n",
    "plt.plot(history['val_loss'], label='val loss')\n",
    "plt.plot(history['acc'], label='train acc')\n",
    "plt.plot(history['val_acc'], label='val acc')\n",
    "plt.legend(loc='best')\n",
    "plt.show()"
   ]
  },
  {
   "cell_type": "markdown",
   "id": "future-world",
   "metadata": {},
   "source": [
    "### Save trained model"
   ]
  },
  {
   "cell_type": "code",
   "execution_count": 10,
   "id": "differential-departure",
   "metadata": {},
   "outputs": [],
   "source": [
    "torch.save(model.state_dict(), 'fcn_model.pt')"
   ]
  },
  {
   "cell_type": "markdown",
   "id": "fabulous-anxiety",
   "metadata": {},
   "source": [
    "### 7. Test our model"
   ]
  },
  {
   "cell_type": "code",
   "execution_count": 11,
   "id": "british-transparency",
   "metadata": {},
   "outputs": [],
   "source": [
    "## define a test model with a save structure for train\n",
    "#Load our saved model\n",
    "test_model = fcn_model(in_dim=in_dim)\n",
    "test_model.load_state_dict(torch.load('fcn_model.pt'))\n",
    "# generate new test data\n",
    "np.random.seed(seed=0)\n",
    "mu_1 = [1,1,1,1]\n",
    "mu_2 = [0,0,0,0]\n",
    "s_1 = [0.5, 0.5, 0.5, 0.5]\n",
    "s_2 = [2, 2, 2, 2]\n",
    "sample_size = 2000\n",
    "a_test = np.random.normal(loc=mu_1, scale=s_1, size=(sample_size, in_dim))\n",
    "b_test = np.random.normal(loc=mu_2, scale=s_2, size=(sample_size, in_dim))"
   ]
  },
  {
   "cell_type": "markdown",
   "id": "african-green",
   "metadata": {},
   "source": [
    "#### Run the model for new datasets, to obtain predictions from our model."
   ]
  },
  {
   "cell_type": "code",
   "execution_count": 12,
   "id": "muslim-ribbon",
   "metadata": {},
   "outputs": [],
   "source": [
    "test_model.eval()\n",
    "a_out = test_model(torch.from_numpy(a_test).float()).detach().numpy()\n",
    "b_out = test_model(torch.from_numpy(b_test).float()).detach().numpy()"
   ]
  },
  {
   "cell_type": "markdown",
   "id": "demonstrated-cedar",
   "metadata": {},
   "source": [
    "#### Histogram to display the distribution of the predictoins for test sets."
   ]
  },
  {
   "cell_type": "code",
   "execution_count": 13,
   "id": "dental-growth",
   "metadata": {},
   "outputs": [
    {
     "data": {
      "image/png": "[encoded data removed]",
      "text/plain": [
       "<Figure size 360x360 with 1 Axes>"
      ]
     },
     "metadata": {
      "needs_background": "light"
     },
     "output_type": "display_data"
    }
   ],
   "source": [
    "bins = 40\n",
    "prg = (0, 1)\n",
    "plt.figure(figsize=(5, 5))\n",
    "plt.title('Distribution of predictions of our model')\n",
    "plt.hist(a_out, bins=bins, range=prg, histtype='step', label='class: a', density=True)\n",
    "plt.hist(b_out, bins=bins, range=prg, histtype='step', label='class: b', density=True)\n",
    "plt.xlabel('NN prediction')\n",
    "plt.legend(loc='best')\n",
    "plt.show()"
   ]
  },
  {
   "cell_type": "markdown",
   "id": "subtle-insulation",
   "metadata": {},
   "source": [
    "#### Distance from origin and prediction relation"
   ]
  },
  {
   "cell_type": "code",
   "execution_count": 14,
   "id": "prescription-anderson",
   "metadata": {},
   "outputs": [
    {
     "data": {
      "image/png": "[encoded data removed]",
      "text/plain": [
       "<Figure size 360x360 with 1 Axes>"
      ]
     },
     "metadata": {
      "needs_background": "light"
     },
     "output_type": "display_data"
    }
   ],
   "source": [
    "plt.figure(figsize=(5, 5))\n",
    "plt.scatter(a_out[:,0], np.sqrt(np.sum(np.square(a_test), axis=1)), s=0.5, label='a', alpha=0.5)\n",
    "plt.scatter(b_out[:,0], np.sqrt(np.sum(np.square(b_test), axis=1)), s=0.5, label='b', alpha=0.5)\n",
    "plt.legend(loc='best')\n",
    "plt.xlabel('NN prediction')\n",
    "plt.ylabel('r')\n",
    "plt.show()"
   ]
  },
  {
   "cell_type": "markdown",
   "id": "brief-salad",
   "metadata": {},
   "source": [
    "### 8. Separation method"
   ]
  },
  {
   "cell_type": "code",
   "execution_count": 15,
   "id": "greek-joint",
   "metadata": {},
   "outputs": [],
   "source": [
    "def separation(a,b):\n",
    "    # I decided to increase num of bins to get better precision\n",
    "    num_of_bins = 200\n",
    "    # 40 bins between 0, 1\n",
    "    bins = np.linspace(0,1,num_of_bins)\n",
    "    #Calculate the sum by going through each bin\n",
    "    sep = 0\n",
    "    for i in range(num_of_bins - 1):\n",
    "        #initialize the number of each class in bin\n",
    "        na = 0\n",
    "        nb = 0\n",
    "        #check how many points of class a are within this bin\n",
    "        for j in a:\n",
    "            if j >= bins[i] and j < bins[i+1]:\n",
    "                na += 1\n",
    "        # Same for class b\n",
    "        for j in b:\n",
    "            if j >= bins[i] and j < bins[i+1]:\n",
    "                nb += 1\n",
    "        # Calculate separation as in formula, avoided division by 0\n",
    "        if na+nb != 0:\n",
    "            sep += (na - nb) ** 2 / (na + nb)\n",
    "    sep /= 2\n",
    "    return sep"
   ]
  },
  {
   "cell_type": "markdown",
   "id": "spatial-protein",
   "metadata": {},
   "source": [
    "#### Calculate the separation for our test sample"
   ]
  },
  {
   "cell_type": "code",
   "execution_count": 16,
   "id": "congressional-mixer",
   "metadata": {},
   "outputs": [
    {
     "name": "stdout",
     "output_type": "stream",
     "text": [
      "Separation for the test samples:  1897.5685774198582\n"
     ]
    }
   ],
   "source": [
    "print('Separation for the test samples: ',separation(a_out, b_out))"
   ]
  }
 ],
 "metadata": {
  "kernelspec": {
   "display_name": "Python 3",
   "language": "python",
   "name": "python3"
  },
  "language_info": {
   "codemirror_mode": {
    "name": "ipython",
    "version": 3
   },
   "file_extension": ".py",
   "mimetype": "text/x-python",
   "name": "python",
   "nbconvert_exporter": "python",
   "pygments_lexer": "ipython3",
   "version": "3.8.5"
  }
 },
 "nbformat": 4,
 "nbformat_minor": 5
}
